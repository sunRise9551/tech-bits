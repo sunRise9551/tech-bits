{
  "nbformat": 4,
  "nbformat_minor": 0,
  "metadata": {
    "colab": {
      "provenance": []
    },
    "kernelspec": {
      "name": "python3",
      "display_name": "Python 3"
    },
    "language_info": {
      "name": "python"
    }
  },
  "cells": [
    {
      "cell_type": "code",
      "execution_count": null,
      "metadata": {
        "id": "BrDaxZV4vXue"
      },
      "outputs": [],
      "source": [
        "import numpy as np\n",
        "import math"
      ]
    },
    {
      "cell_type": "markdown",
      "source": [
        "Query\n",
        "- What am I looking for\n",
        "- [ sequence length, d_k]\n",
        "\n",
        "Key\n",
        "- What I can offer\n",
        "- [ sequece length, d_k ]\n",
        "\n",
        "Value\n",
        "- What I actually offer\n",
        "- [ sequence length, d_v ]"
      ],
      "metadata": {
        "id": "ccdO7gvjyIO0"
      }
    },
    {
      "cell_type": "code",
      "source": [
        "L, d_k, d_v = 4, 8, 8\n",
        "# L = length of sequence\n",
        "# d_k =\n",
        "# d_v =\n",
        "q = np.random.randn(L, d_k)\n",
        "k = np.random.randn(L, d_k)\n",
        "v = np.random.randn(L, d_v)"
      ],
      "metadata": {
        "id": "9TDB7DmRwv00"
      },
      "execution_count": null,
      "outputs": []
    },
    {
      "cell_type": "code",
      "source": [
        "q"
      ],
      "metadata": {
        "colab": {
          "base_uri": "https://localhost:8080/"
        },
        "id": "-ObLMCtP6l_r",
        "outputId": "9ed57be5-441c-4db9-8763-fa5ff23548f3"
      },
      "execution_count": null,
      "outputs": [
        {
          "output_type": "execute_result",
          "data": {
            "text/plain": [
              "array([[ 1.36356156, -0.18691182,  1.28193485, -0.1105039 ,  1.85959866,\n",
              "        -1.16846223,  0.03678578, -0.64119846],\n",
              "       [-0.53128764,  0.23745705, -0.49561824, -1.84935788,  0.22371562,\n",
              "        -0.50987601, -0.02358382,  1.86298275],\n",
              "       [ 0.0385568 ,  1.86055424, -1.46178503,  1.01461714, -1.23424907,\n",
              "         0.30591167, -0.77874867, -0.29045989],\n",
              "       [-0.70135465,  1.72472528, -0.14120923, -0.62749337, -0.39903098,\n",
              "        -0.00354677, -1.51848765, -1.38518668]])"
            ]
          },
          "metadata": {},
          "execution_count": 5
        }
      ]
    },
    {
      "cell_type": "code",
      "source": [
        "k"
      ],
      "metadata": {
        "colab": {
          "base_uri": "https://localhost:8080/"
        },
        "id": "wi2h5BgA6mXJ",
        "outputId": "19c9c555-bca2-4292-82ff-da587caa4e9a"
      },
      "execution_count": null,
      "outputs": [
        {
          "output_type": "execute_result",
          "data": {
            "text/plain": [
              "array([[-1.37286052, -0.23153669,  0.2715611 , -0.65591073, -0.13488642,\n",
              "         0.72374622, -0.17189557, -0.2228312 ],\n",
              "       [ 0.24281772, -1.1105715 , -0.32557579, -0.3432607 ,  0.41166963,\n",
              "        -0.34568284,  1.47291009, -2.06148413],\n",
              "       [ 1.76737621, -0.29152771,  0.56727085,  0.60468754, -0.31842822,\n",
              "         1.29399788, -0.64047442, -1.65696562],\n",
              "       [ 2.7337647 , -0.44233393, -0.31082483, -1.38237913,  0.82808137,\n",
              "        -0.81943862, -0.03059131, -1.51333032]])"
            ]
          },
          "metadata": {},
          "execution_count": 6
        }
      ]
    },
    {
      "cell_type": "code",
      "source": [
        "v"
      ],
      "metadata": {
        "colab": {
          "base_uri": "https://localhost:8080/"
        },
        "id": "cpuyYjqu6mr2",
        "outputId": "f13aa1fc-617d-4fe4-fe95-13855f2a96e8"
      },
      "execution_count": null,
      "outputs": [
        {
          "output_type": "execute_result",
          "data": {
            "text/plain": [
              "array([[ 0.34131403,  1.24786025, -0.12903802, -0.59826645, -0.24232617,\n",
              "         0.54173432, -0.86491139, -0.76773299],\n",
              "       [-0.44219429, -0.23895719,  2.27152296, -0.08224842,  0.45455451,\n",
              "         0.31486997,  0.87850504, -1.27064538],\n",
              "       [ 1.65933199, -0.2012565 ,  1.40002879, -0.03821449, -1.88177953,\n",
              "        -0.73513935,  1.01886936,  0.69763793],\n",
              "       [ 0.38614034, -1.22304162,  0.94780548, -1.88126599, -0.41911076,\n",
              "        -1.18638461,  1.90089709, -0.88107686]])"
            ]
          },
          "metadata": {},
          "execution_count": 7
        }
      ]
    },
    {
      "cell_type": "markdown",
      "source": [
        "## Self Attention\n",
        "\n",
        "$$\n",
        "\\text{self attention} = softmax\\bigg(\\frac{Q.K^T}{\\sqrt{d_k}}+M\\bigg)\n",
        "$$\n",
        "\n",
        "$$\n",
        "\\text{new V} = \\text{self attention}.V\n",
        "$$"
      ],
      "metadata": {
        "id": "cU1pPPCe6roT"
      }
    },
    {
      "cell_type": "code",
      "source": [
        "np.matmul(q, k.T)"
      ],
      "metadata": {
        "colab": {
          "base_uri": "https://localhost:8080/"
        },
        "id": "9D187c1m6m9X",
        "outputId": "bad0a36f-2d59-4407-f7c5-25a684235a30"
      },
      "execution_count": null,
      "outputs": [
        {
          "output_type": "execute_result",
          "data": {
            "text/plain": [
              "array([[-2.36804757,  2.70470079,  2.0595473 ,  7.03123685],\n",
              "       [ 0.94255307, -3.2034398 , -6.21045325, -1.0624065 ],\n",
              "       [-0.95970908, -3.09137222,  1.07895899, -2.47515733],\n",
              "       [ 1.55769863, -1.36846225,  1.18832837,  0.04625574]])"
            ]
          },
          "metadata": {},
          "execution_count": 8
        }
      ]
    },
    {
      "cell_type": "code",
      "source": [
        "# Why we need sqrt(d_k) in denominator\n",
        "q.var(), k.var(), np.matmul(q, k.T).var()"
      ],
      "metadata": {
        "colab": {
          "base_uri": "https://localhost:8080/"
        },
        "id": "QVGXNZV66voP",
        "outputId": "929fa3b0-7b71-4771-beb9-e379207a91c0"
      },
      "execution_count": null,
      "outputs": [
        {
          "output_type": "execute_result",
          "data": {
            "text/plain": [
              "(1.0504598953361777, 1.033290378314194, 8.741723348838764)"
            ]
          },
          "metadata": {},
          "execution_count": 9
        }
      ]
    },
    {
      "cell_type": "code",
      "source": [
        "scaled = np.matmul(q, k.T) / math.sqrt(d_k)\n",
        "q.var(), k.var(), scaled.var()"
      ],
      "metadata": {
        "colab": {
          "base_uri": "https://localhost:8080/"
        },
        "id": "mwtF4RoM6xTw",
        "outputId": "0ed676c2-767c-4444-8511-a749948a1ddd"
      },
      "execution_count": null,
      "outputs": [
        {
          "output_type": "execute_result",
          "data": {
            "text/plain": [
              "(1.0504598953361777, 1.033290378314194, 1.0927154186048453)"
            ]
          },
          "metadata": {},
          "execution_count": 10
        }
      ]
    },
    {
      "cell_type": "code",
      "source": [
        "scaled"
      ],
      "metadata": {
        "colab": {
          "base_uri": "https://localhost:8080/"
        },
        "id": "LxeZq4DF6y2E",
        "outputId": "11565b39-d864-49ce-ad53-66faa02090b8"
      },
      "execution_count": null,
      "outputs": [
        {
          "output_type": "execute_result",
          "data": {
            "text/plain": [
              "array([[-0.83723125,  0.95625613,  0.72815993,  2.48591763],\n",
              "       [ 0.33324283, -1.132587  , -2.1957268 , -0.37561742],\n",
              "       [-0.3393084 , -1.09296513,  0.38146961, -0.87510027],\n",
              "       [ 0.55072963, -0.48382447,  0.42013753,  0.01635387]])"
            ]
          },
          "metadata": {},
          "execution_count": 11
        }
      ]
    },
    {
      "cell_type": "markdown",
      "source": [
        "## Masking\n",
        "\n",
        "- This is to ensure words don't get context from words generated in the future.\n",
        "- Not required in the encoders, but required int he decoders"
      ],
      "metadata": {
        "id": "Dmz4v-RmMAaj"
      }
    },
    {
      "cell_type": "code",
      "source": [
        "mask = np.tril(np.ones( (L, L) ))\n",
        "mask"
      ],
      "metadata": {
        "colab": {
          "base_uri": "https://localhost:8080/"
        },
        "id": "e8N3OhSLILfG",
        "outputId": "2c63a444-066c-44b2-abe5-242dd989f311"
      },
      "execution_count": null,
      "outputs": [
        {
          "output_type": "execute_result",
          "data": {
            "text/plain": [
              "array([[1., 0., 0., 0.],\n",
              "       [1., 1., 0., 0.],\n",
              "       [1., 1., 1., 0.],\n",
              "       [1., 1., 1., 1.]])"
            ]
          },
          "metadata": {},
          "execution_count": 7
        }
      ]
    },
    {
      "cell_type": "code",
      "source": [
        "mask[mask == 0] = -np.infty\n",
        "mask[mask == 1] = 0"
      ],
      "metadata": {
        "id": "hIV9K3Yn6s1V"
      },
      "execution_count": null,
      "outputs": []
    },
    {
      "cell_type": "code",
      "source": [
        "mask"
      ],
      "metadata": {
        "colab": {
          "base_uri": "https://localhost:8080/"
        },
        "id": "LK5V_T3W6vpX",
        "outputId": "bb4160a1-a011-4850-e403-9cb252572c66"
      },
      "execution_count": null,
      "outputs": [
        {
          "output_type": "execute_result",
          "data": {
            "text/plain": [
              "array([[  0., -inf, -inf, -inf],\n",
              "       [  0.,   0., -inf, -inf],\n",
              "       [  0.,   0.,   0., -inf],\n",
              "       [  0.,   0.,   0.,   0.]])"
            ]
          },
          "metadata": {},
          "execution_count": 9
        }
      ]
    },
    {
      "cell_type": "code",
      "source": [
        "scaled + mask"
      ],
      "metadata": {
        "colab": {
          "base_uri": "https://localhost:8080/"
        },
        "id": "lNH1VgEf7xTa",
        "outputId": "4211c411-0356-4e39-8388-d39b0c1d0920"
      },
      "execution_count": null,
      "outputs": [
        {
          "output_type": "execute_result",
          "data": {
            "text/plain": [
              "array([[ 0.68537216,        -inf,        -inf,        -inf],\n",
              "       [ 0.47796088,  0.42358302,        -inf,        -inf],\n",
              "       [ 0.37611945, -0.30709922, -0.65849946,        -inf],\n",
              "       [ 0.78209275, -0.99700418,  1.88206279,  0.79213542]])"
            ]
          },
          "metadata": {},
          "execution_count": 10
        }
      ]
    },
    {
      "cell_type": "markdown",
      "source": [
        "## Softmax\n",
        "\n",
        "$$\n",
        "\\text{softmax} = \\frac{e^{x_i}}{\\sum_j e^x_j}\n",
        "$$"
      ],
      "metadata": {
        "id": "XMTAXjooN9eZ"
      }
    },
    {
      "cell_type": "code",
      "source": [
        "def softmax(x):\n",
        "  return (np.exp(x).T / np.sum(np.exp(x), axis=-1)).T"
      ],
      "metadata": {
        "id": "2R4gdRqj8W4Y"
      },
      "execution_count": null,
      "outputs": []
    },
    {
      "cell_type": "code",
      "source": [
        "attention = softmax(scaled + mask)"
      ],
      "metadata": {
        "id": "K5eg2zPy41sP"
      },
      "execution_count": null,
      "outputs": []
    },
    {
      "cell_type": "code",
      "source": [
        "attention"
      ],
      "metadata": {
        "colab": {
          "base_uri": "https://localhost:8080/"
        },
        "id": "7sauNmfl-1TB",
        "outputId": "46b22beb-9034-4c7c-8d56-04209d2581c4"
      },
      "execution_count": null,
      "outputs": [
        {
          "output_type": "execute_result",
          "data": {
            "text/plain": [
              "array([[1.        , 0.        , 0.        , 0.        ],\n",
              "       [0.51359112, 0.48640888, 0.        , 0.        ],\n",
              "       [0.53753304, 0.27144826, 0.1910187 , 0.        ],\n",
              "       [0.19293995, 0.03256643, 0.57960627, 0.19488734]])"
            ]
          },
          "metadata": {},
          "execution_count": 21
        }
      ]
    },
    {
      "cell_type": "code",
      "source": [
        "new_v = np.matmul(attention, v)\n",
        "new_v"
      ],
      "metadata": {
        "colab": {
          "base_uri": "https://localhost:8080/"
        },
        "id": "BAy37go56LZo",
        "outputId": "78d97fa1-e0b3-4c1d-8294-bf0fdb77f199"
      },
      "execution_count": null,
      "outputs": [
        {
          "output_type": "execute_result",
          "data": {
            "text/plain": [
              "array([[-0.00368231,  1.43739233, -0.59614565, -1.23171219,  1.12030717,\n",
              "        -0.98620738, -0.15461465, -1.03106383],\n",
              "       [ 0.41440401, -0.13671232,  0.02128364, -0.60532081,  0.49977893,\n",
              "        -1.1936286 , -0.27463831, -1.10169151],\n",
              "       [ 0.32673907,  0.72121642, -0.00947672, -0.59897862,  0.90155754,\n",
              "        -0.88535361, -0.21384855, -0.7053796 ],\n",
              "       [ 0.18700384,  1.67754576,  0.33105314, -0.41795742,  1.4258469 ,\n",
              "        -0.18788199, -0.10285145,  0.54683565]])"
            ]
          },
          "metadata": {},
          "execution_count": 22
        }
      ]
    },
    {
      "cell_type": "code",
      "source": [
        "v"
      ],
      "metadata": {
        "colab": {
          "base_uri": "https://localhost:8080/"
        },
        "id": "vCP2aZOU9VrT",
        "outputId": "e1fe2137-cd95-4a4b-fa1a-3ec21c38104c"
      },
      "execution_count": null,
      "outputs": [
        {
          "output_type": "execute_result",
          "data": {
            "text/plain": [
              "array([[-0.00368231,  1.43739233, -0.59614565, -1.23171219,  1.12030717,\n",
              "        -0.98620738, -0.15461465, -1.03106383],\n",
              "       [ 0.85585446, -1.79878344,  0.67321704,  0.05607552, -0.15542661,\n",
              "        -1.41264124, -0.40136933, -1.17626611],\n",
              "       [ 0.50465335,  2.28693419,  0.67128338,  0.2506863 ,  1.78802234,\n",
              "         0.14775751, -0.11405725,  0.88026286],\n",
              "       [-0.68069105,  0.68385101,  0.17994557, -1.68013201,  0.91543969,\n",
              "        -0.19108312,  0.03160471,  1.40527326]])"
            ]
          },
          "metadata": {},
          "execution_count": 23
        }
      ]
    },
    {
      "cell_type": "markdown",
      "source": [
        "# Function"
      ],
      "metadata": {
        "id": "nSiJuBQELFHT"
      }
    },
    {
      "cell_type": "code",
      "source": [
        "def softmax(x):\n",
        "  return (np.exp(x).T / np.sum(np.exp(x), axis=-1)).T\n",
        "\n",
        "def scaled_dot_product_attention(q, k, v, mask=None):\n",
        "  d_k = q.shape[-1]\n",
        "  scaled = np.matmul(q, k.T) / math.sqrt(d_k)\n",
        "  if mask is not None:\n",
        "    scaled = scaled + mask\n",
        "  attention = softmax(scaled)\n",
        "  out = np.matmul(attention, v)\n",
        "  return out, attention"
      ],
      "metadata": {
        "id": "XvTnmdcB_jdq"
      },
      "execution_count": null,
      "outputs": []
    },
    {
      "cell_type": "code",
      "source": [
        "values, attention = scaled_dot_product_attention(q, k, v, mask=mask)\n",
        "print(\"Q\\n\", q)\n",
        "print(\"K\\n\", k)\n",
        "print(\"V\\n\", v)\n",
        "print(\"New V\\n\", values)\n",
        "print(\"Attention\\n\", attention)"
      ],
      "metadata": {
        "colab": {
          "base_uri": "https://localhost:8080/"
        },
        "id": "KSxLkZdiSLMT",
        "outputId": "ca70508d-fb6e-4eec-acb6-7a89a60dffa8"
      },
      "execution_count": null,
      "outputs": [
        {
          "output_type": "stream",
          "name": "stdout",
          "text": [
            "Q\n",
            " [[ 0.11672673 -2.54870451 -1.44065948  0.93661829  1.36278968  1.04252277\n",
            "  -0.01310938 -1.3163937 ]\n",
            " [ 0.26721599 -0.90218255  0.07417847 -0.10430246  0.52684253 -0.07081531\n",
            "  -0.60511725 -0.55225527]\n",
            " [-0.93297509  0.28724456  1.37184579  0.41589874  0.34981245 -0.24753755\n",
            "  -1.24497125  0.05044148]\n",
            " [-0.11414585 -0.01545749 -0.58376828 -0.40193907  0.93931836 -1.94334363\n",
            "  -0.34770465  1.50103406]]\n",
            "K\n",
            " [[ 1.1226585  -0.85645535  0.54315044  1.36560451  0.52539476 -0.94502504\n",
            "  -0.48444661  0.46268014]\n",
            " [-0.53713766 -1.16937329 -0.57988617  0.92713577 -0.85995607 -0.40352635\n",
            "   0.26555146 -1.83159914]\n",
            " [-2.06994435 -0.09514715 -1.64928361 -0.17375184  0.13146819 -1.76335363\n",
            "   1.56568846  0.69751826]\n",
            " [ 0.32910684 -0.1939204  -0.80444134  0.78816869  0.35599408  0.28309835\n",
            "  -0.25970963  1.49744622]]\n",
            "V\n",
            " [[-0.00368231  1.43739233 -0.59614565 -1.23171219  1.12030717 -0.98620738\n",
            "  -0.15461465 -1.03106383]\n",
            " [ 0.85585446 -1.79878344  0.67321704  0.05607552 -0.15542661 -1.41264124\n",
            "  -0.40136933 -1.17626611]\n",
            " [ 0.50465335  2.28693419  0.67128338  0.2506863   1.78802234  0.14775751\n",
            "  -0.11405725  0.88026286]\n",
            " [-0.68069105  0.68385101  0.17994557 -1.68013201  0.91543969 -0.19108312\n",
            "   0.03160471  1.40527326]]\n",
            "New V\n",
            " [[-0.00368231  1.43739233 -0.59614565 -1.23171219  1.12030717 -0.98620738\n",
            "  -0.15461465 -1.03106383]\n",
            " [ 0.41440401 -0.13671232  0.02128364 -0.60532081  0.49977893 -1.1936286\n",
            "  -0.27463831 -1.10169151]\n",
            " [ 0.32673907  0.72121642 -0.00947672 -0.59897862  0.90155754 -0.88535361\n",
            "  -0.21384855 -0.7053796 ]\n",
            " [ 0.18700384  1.67754576  0.33105314 -0.41795742  1.4258469  -0.18788199\n",
            "  -0.10285145  0.54683565]]\n",
            "Attention\n",
            " [[1.         0.         0.         0.        ]\n",
            " [0.51359112 0.48640888 0.         0.        ]\n",
            " [0.53753304 0.27144826 0.1910187  0.        ]\n",
            " [0.19293995 0.03256643 0.57960627 0.19488734]]\n"
          ]
        }
      ]
    }
  ]
}