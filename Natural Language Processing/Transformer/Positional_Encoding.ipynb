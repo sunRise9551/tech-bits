{
  "nbformat": 4,
  "nbformat_minor": 0,
  "metadata": {
    "colab": {
      "provenance": [],
      "toc_visible": true
    },
    "kernelspec": {
      "name": "python3",
      "display_name": "Python 3"
    },
    "language_info": {
      "name": "python"
    }
  },
  "cells": [
    {
      "cell_type": "code",
      "source": [
        "import torch\n",
        "import torch.nn as nn\n",
        "import math"
      ],
      "metadata": {
        "id": "EGtA9X_ekDak"
      },
      "execution_count": null,
      "outputs": []
    },
    {
      "cell_type": "markdown",
      "source": [
        "## 1. Input of **Input Embedding**"
      ],
      "metadata": {
        "id": "e_wqdmjCkzJ0"
      }
    },
    {
      "cell_type": "markdown",
      "source": [
        "\n",
        "\n",
        "![image.png](data:image/png;base64,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)\n",
        "\n",
        "\n"
      ],
      "metadata": {
        "id": "96OE7EoikcqF"
      }
    },
    {
      "cell_type": "markdown",
      "source": [
        "## 2. Output of **Input Embedding**\n",
        "\n",
        "- `seq_len` = 4\n",
        "\n",
        "- `d_model` = 6"
      ],
      "metadata": {
        "id": "erDcPE8TnXhc"
      }
    },
    {
      "cell_type": "markdown",
      "source": [
        "\n",
        "\n",
        "![image.png](data:image/png;base64,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)\n",
        "\n"
      ],
      "metadata": {
        "id": "lUScSJVqmIMc"
      }
    },
    {
      "cell_type": "markdown",
      "source": [
        "## 3. Positional Encoding Matrix"
      ],
      "metadata": {
        "id": "IJiiqC8Lneh0"
      }
    },
    {
      "cell_type": "markdown",
      "source": [
        "![image.png](data:image/png;base64,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)"
      ],
      "metadata": {
        "id": "yEmBcbWYnec0"
      }
    },
    {
      "cell_type": "markdown",
      "source": [
        "- Compute this out using below formula"
      ],
      "metadata": {
        "id": "htGeFqj-oan8"
      }
    },
    {
      "cell_type": "markdown",
      "source": [
        "$$\n",
        "PE(\\text{position}, 2i) = \\sin\\bigg( \\frac{ \\text{position} }{10000^\\frac{2i}{d_{model}}} \\bigg)\n",
        "$$\n",
        "\n",
        "$$\n",
        "PE(\\text{position}, 2i+1) = \\cos\\bigg( \\frac{ \\text{position} }{10000^\\frac{2i}{d_{model}}} \\bigg)\n",
        "$$\n"
      ],
      "metadata": {
        "id": "iNmkwqPooHd7"
      }
    },
    {
      "cell_type": "markdown",
      "source": [
        "\n",
        "We can rewrite these as\n",
        "\n",
        "$$\n",
        "PE(\\text{position}, i) = \\sin\\bigg( \\frac{ \\text{position} }{10000^\\frac{i}{d_{model}}} \\bigg) \\text{ when i is even}\n",
        "$$\n",
        "\n",
        "$$\n",
        "PE(\\text{position}, i) = \\cos\\bigg( \\frac{ \\text{position} }{10000^\\frac{i-1}{d_{model}}} \\bigg) \\text{ when i is odd}\n",
        "$$"
      ],
      "metadata": {
        "id": "ZJ1C_x8zoUBD"
      }
    },
    {
      "cell_type": "markdown",
      "source": [
        "### Diving Deep"
      ],
      "metadata": {
        "id": "KCUClk9voj17"
      }
    },
    {
      "cell_type": "code",
      "source": [
        "# We have an input of (4,6)\n",
        "seq_len = 4\n",
        "d_model = 6"
      ],
      "metadata": {
        "id": "hZmo-8Aaoo-y"
      },
      "execution_count": null,
      "outputs": []
    },
    {
      "cell_type": "code",
      "source": [
        "even_i = torch.arange(0, d_model, 2).float()\n",
        "even_i"
      ],
      "metadata": {
        "colab": {
          "base_uri": "https://localhost:8080/"
        },
        "id": "aW2JiwZyk6zk",
        "outputId": "adfd917a-0c83-4fc9-ffc3-b3971b5d0c1a"
      },
      "execution_count": null,
      "outputs": [
        {
          "output_type": "execute_result",
          "data": {
            "text/plain": [
              "tensor([0., 2., 4.])"
            ]
          },
          "metadata": {},
          "execution_count": 7
        }
      ]
    },
    {
      "cell_type": "code",
      "source": [
        "even_denominator = torch.pow(10000, even_i/d_model)\n",
        "even_denominator"
      ],
      "metadata": {
        "colab": {
          "base_uri": "https://localhost:8080/"
        },
        "id": "I5MPZJnfkCHg",
        "outputId": "70271b88-03d5-488b-ab2b-644b461feb22"
      },
      "execution_count": null,
      "outputs": [
        {
          "output_type": "execute_result",
          "data": {
            "text/plain": [
              "tensor([  1.0000,  21.5443, 464.1590])"
            ]
          },
          "metadata": {},
          "execution_count": 8
        }
      ]
    },
    {
      "cell_type": "code",
      "source": [
        "odd_i = torch.arange(1, d_model, 2).float()\n",
        "odd_i"
      ],
      "metadata": {
        "colab": {
          "base_uri": "https://localhost:8080/"
        },
        "id": "J5J-ck82o9O8",
        "outputId": "f19ce315-de71-43e8-f6b9-357008f09325"
      },
      "execution_count": null,
      "outputs": [
        {
          "output_type": "execute_result",
          "data": {
            "text/plain": [
              "tensor([1., 3., 5.])"
            ]
          },
          "metadata": {},
          "execution_count": 9
        }
      ]
    },
    {
      "cell_type": "code",
      "source": [
        "odd_denominator = torch.pow(10000, (odd_i - 1)/d_model)\n",
        "odd_denominator"
      ],
      "metadata": {
        "colab": {
          "base_uri": "https://localhost:8080/"
        },
        "id": "6LMB87M4o-yO",
        "outputId": "68b785f6-6ae8-4b14-8c12-7abfc4c4104c"
      },
      "execution_count": null,
      "outputs": [
        {
          "output_type": "execute_result",
          "data": {
            "text/plain": [
              "tensor([  1.0000,  21.5443, 464.1590])"
            ]
          },
          "metadata": {},
          "execution_count": 10
        }
      ]
    },
    {
      "cell_type": "markdown",
      "source": [
        "`even_denominator` and `odd_denominator` are the same!\n",
        "\n",
        "So we can just do one of these actions and call the resulting variable `denominator`"
      ],
      "metadata": {
        "id": "VlAYlRdjpKSL"
      }
    },
    {
      "cell_type": "code",
      "source": [
        "denominator = even_denominator"
      ],
      "metadata": {
        "id": "IyjRI1imBA3F"
      },
      "execution_count": null,
      "outputs": []
    },
    {
      "cell_type": "code",
      "source": [
        "position = torch.arange(max_sequence_length, dtype=torch.float).reshape(max_sequence_length, 1)"
      ],
      "metadata": {
        "id": "WwxxoNSN-me9"
      },
      "execution_count": null,
      "outputs": []
    },
    {
      "cell_type": "code",
      "source": [
        "position"
      ],
      "metadata": {
        "colab": {
          "base_uri": "https://localhost:8080/"
        },
        "id": "1nfvUzG8-rMK",
        "outputId": "3bc44cf5-0c38-43ae-bee2-7cd86f078601"
      },
      "execution_count": null,
      "outputs": [
        {
          "output_type": "execute_result",
          "data": {
            "text/plain": [
              "tensor([[0.],\n",
              "        [1.],\n",
              "        [2.],\n",
              "        [3.],\n",
              "        [4.],\n",
              "        [5.],\n",
              "        [6.],\n",
              "        [7.],\n",
              "        [8.],\n",
              "        [9.]])"
            ]
          },
          "metadata": {},
          "execution_count": 81
        }
      ]
    },
    {
      "cell_type": "code",
      "source": [
        "even_PE = torch.sin(position / denominator)\n",
        "odd_PE = torch.cos(position / denominator)"
      ],
      "metadata": {
        "id": "XEm-9niG4VEl"
      },
      "execution_count": null,
      "outputs": []
    },
    {
      "cell_type": "code",
      "source": [
        "even_PE"
      ],
      "metadata": {
        "colab": {
          "base_uri": "https://localhost:8080/"
        },
        "id": "Uqfc01YJ43w6",
        "outputId": "b151d8fe-ce1c-4bfc-bb57-1e3ec54aae49"
      },
      "execution_count": null,
      "outputs": [
        {
          "output_type": "execute_result",
          "data": {
            "text/plain": [
              "tensor([[ 0.0000,  0.0000,  0.0000],\n",
              "        [ 0.8415,  0.0464,  0.0022],\n",
              "        [ 0.9093,  0.0927,  0.0043],\n",
              "        [ 0.1411,  0.1388,  0.0065],\n",
              "        [-0.7568,  0.1846,  0.0086],\n",
              "        [-0.9589,  0.2300,  0.0108],\n",
              "        [-0.2794,  0.2749,  0.0129],\n",
              "        [ 0.6570,  0.3192,  0.0151],\n",
              "        [ 0.9894,  0.3629,  0.0172],\n",
              "        [ 0.4121,  0.4057,  0.0194]])"
            ]
          },
          "metadata": {},
          "execution_count": 83
        }
      ]
    },
    {
      "cell_type": "code",
      "source": [
        "even_PE.shape"
      ],
      "metadata": {
        "colab": {
          "base_uri": "https://localhost:8080/"
        },
        "id": "Fjmx56D25A5T",
        "outputId": "9615f471-3bc5-445e-d229-09bcd93d239e"
      },
      "execution_count": null,
      "outputs": [
        {
          "output_type": "execute_result",
          "data": {
            "text/plain": [
              "torch.Size([10, 3])"
            ]
          },
          "metadata": {},
          "execution_count": 84
        }
      ]
    },
    {
      "cell_type": "code",
      "source": [
        "odd_PE"
      ],
      "metadata": {
        "colab": {
          "base_uri": "https://localhost:8080/"
        },
        "id": "J8TlRfY745hA",
        "outputId": "bfd9bd54-009a-4cb5-c682-88bffc6b7a4e"
      },
      "execution_count": null,
      "outputs": [
        {
          "output_type": "execute_result",
          "data": {
            "text/plain": [
              "tensor([[ 1.0000,  1.0000,  1.0000],\n",
              "        [ 0.5403,  0.9989,  1.0000],\n",
              "        [-0.4161,  0.9957,  1.0000],\n",
              "        [-0.9900,  0.9903,  1.0000],\n",
              "        [-0.6536,  0.9828,  1.0000],\n",
              "        [ 0.2837,  0.9732,  0.9999],\n",
              "        [ 0.9602,  0.9615,  0.9999],\n",
              "        [ 0.7539,  0.9477,  0.9999],\n",
              "        [-0.1455,  0.9318,  0.9999],\n",
              "        [-0.9111,  0.9140,  0.9998]])"
            ]
          },
          "metadata": {},
          "execution_count": 85
        }
      ]
    },
    {
      "cell_type": "code",
      "source": [
        "odd_PE.shape"
      ],
      "metadata": {
        "colab": {
          "base_uri": "https://localhost:8080/"
        },
        "id": "Bazd5CSZ948R",
        "outputId": "396408c7-26b1-4268-b530-bcfa32a95d69"
      },
      "execution_count": null,
      "outputs": [
        {
          "output_type": "execute_result",
          "data": {
            "text/plain": [
              "torch.Size([10, 3])"
            ]
          },
          "metadata": {},
          "execution_count": 86
        }
      ]
    },
    {
      "cell_type": "code",
      "source": [
        "stacked = torch.stack([even_PE, odd_PE], dim=2)\n",
        "stacked.shape"
      ],
      "metadata": {
        "colab": {
          "base_uri": "https://localhost:8080/"
        },
        "id": "X0n6V1nk_Pgg",
        "outputId": "0b9c0f1e-3a48-4993-a295-5634b73dd82c"
      },
      "execution_count": null,
      "outputs": [
        {
          "output_type": "execute_result",
          "data": {
            "text/plain": [
              "torch.Size([10, 3, 2])"
            ]
          },
          "metadata": {},
          "execution_count": 87
        }
      ]
    },
    {
      "cell_type": "code",
      "source": [
        "PE = torch.flatten(stacked, start_dim=1, end_dim=2)\n",
        "PE"
      ],
      "metadata": {
        "colab": {
          "base_uri": "https://localhost:8080/"
        },
        "id": "LJAGzwSF_fVV",
        "outputId": "62e15b26-d4b0-433d-8fd0-fc10b5e7311b"
      },
      "execution_count": null,
      "outputs": [
        {
          "output_type": "execute_result",
          "data": {
            "text/plain": [
              "tensor([[ 0.0000,  1.0000,  0.0000,  1.0000,  0.0000,  1.0000],\n",
              "        [ 0.8415,  0.5403,  0.0464,  0.9989,  0.0022,  1.0000],\n",
              "        [ 0.9093, -0.4161,  0.0927,  0.9957,  0.0043,  1.0000],\n",
              "        [ 0.1411, -0.9900,  0.1388,  0.9903,  0.0065,  1.0000],\n",
              "        [-0.7568, -0.6536,  0.1846,  0.9828,  0.0086,  1.0000],\n",
              "        [-0.9589,  0.2837,  0.2300,  0.9732,  0.0108,  0.9999],\n",
              "        [-0.2794,  0.9602,  0.2749,  0.9615,  0.0129,  0.9999],\n",
              "        [ 0.6570,  0.7539,  0.3192,  0.9477,  0.0151,  0.9999],\n",
              "        [ 0.9894, -0.1455,  0.3629,  0.9318,  0.0172,  0.9999],\n",
              "        [ 0.4121, -0.9111,  0.4057,  0.9140,  0.0194,  0.9998]])"
            ]
          },
          "metadata": {},
          "execution_count": 88
        }
      ]
    },
    {
      "cell_type": "markdown",
      "source": [
        "Wrap in a Class"
      ],
      "metadata": {
        "id": "pHLBfa6Uq9e0"
      }
    },
    {
      "cell_type": "code",
      "source": [
        "import torch\n",
        "import torch.nn as nn\n",
        "\n",
        "class PositionalEncoding(nn.Module):\n",
        "\n",
        "    def __init__(self, d_model, max_sequence_length):\n",
        "        super().__init__()\n",
        "        self.max_sequence_length = max_sequence_length\n",
        "        self.d_model = d_model\n",
        "\n",
        "    def forward(self):\n",
        "        even_i = torch.arange(0, self.d_model, 2).float()\n",
        "        denominator = torch.pow(10000, even_i/self.d_model)\n",
        "        position = torch.arange(self.max_sequence_length).reshape(self.max_sequence_length, 1)\n",
        "        even_PE = torch.sin(position / denominator)\n",
        "        odd_PE = torch.cos(position / denominator)\n",
        "        stacked = torch.stack([even_PE, odd_PE], dim=2)\n",
        "        PE = torch.flatten(stacked, start_dim=1, end_dim=2)\n",
        "        return PE"
      ],
      "metadata": {
        "id": "GWJejS9bq7Ns"
      },
      "execution_count": null,
      "outputs": []
    },
    {
      "cell_type": "code",
      "source": [
        "class PositionalEncoding(nn.Module):\n",
        "    def __init__(self, seq_len, d_model, dropout):\n",
        "        super().__init__()\n",
        "        self.seq_len = seq_len\n",
        "        self.d_model = d_model\n",
        "        self.dropout = nn.Dropout(dropout)\n",
        "\n",
        "        pe = torch.zeros(seq_len, d_model)\n",
        "\n",
        "        position = torch.arange(0, seq_len, dtype=torch.float).unsqueeze(1)\n",
        "\n",
        "        div_term = torch.exp(torch.arange(0, d_model, 2).float() * (-np.log(10000.0) / d_model))\n",
        "        pe[:, 0::2] = torch.sin(position * div_term)\n",
        "        pe[:, 1::2] = torch.cos(position * div_term)\n",
        "        pe = pe.unsqueeze(0).transpose(0, 1)\n",
        "        self.register_buffer('pe', pe)\n",
        "\n",
        "    def forward(self, x):\n",
        "        x = x + self.pe[:x.size(0), :]\n",
        "        return self.dropout(x)"
      ],
      "metadata": {
        "id": "QvAXh-BGq4cU"
      },
      "execution_count": null,
      "outputs": []
    }
  ]
}